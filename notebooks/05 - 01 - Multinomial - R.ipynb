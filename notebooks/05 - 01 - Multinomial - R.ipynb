{
 "cells": [
  {
   "cell_type": "markdown",
   "id": "9e4618a9-90b4-4a94-b3d0-1cd5d45edf77",
   "metadata": {
    "tags": []
   },
   "source": [
    "# Model a Multinomial Logistic Regression in R\n",
    "\n",
    "This notebook will perform multinomial logistic regression on our sample data.  We have a decent amount of data, though there is some skew that we'll have to watch out for:  two of our classes are under-represented in the dataset.\n",
    "\n",
    "For prior analysis, we've used `tidyverse`, `caret`, and `mice`.  Now we'll add one more library, `nnet`, which allows you to train a neural network in R."
   ]
  },
  {
   "cell_type": "code",
   "execution_count": null,
   "id": "809723ab-3d47-41de-87cf-41f658f6c2e2",
   "metadata": {
    "tags": []
   },
   "outputs": [],
   "source": [
    "library(tidyverse)\n",
    "library(caret)\n",
    "library(mice)\n",
    "library(nnet)"
   ]
  },
  {
   "cell_type": "markdown",
   "id": "8e60f21e-26f5-4265-b4c1-61f9e6253418",
   "metadata": {},
   "source": [
    "## Data Preparation\n",
    "\n",
    "The extended attack data already has the features we need roughly in the format we need it."
   ]
  },
  {
   "cell_type": "code",
   "execution_count": null,
   "id": "c0a516d6-e838-4c61-aaed-a5e4dac49d1b",
   "metadata": {
    "tags": []
   },
   "outputs": [],
   "source": [
    "attack_data <- read_csv(\"../data/ExtendedAttackData.csv\")"
   ]
  },
  {
   "cell_type": "code",
   "execution_count": null,
   "id": "794fcdf2-918b-4e57-a60e-b4a0baa8c462",
   "metadata": {
    "tags": []
   },
   "outputs": [],
   "source": [
    "head(attack_data)"
   ]
  },
  {
   "cell_type": "markdown",
   "id": "bf4b8c4c-3482-4b11-b4ba-77d2e93cb2e6",
   "metadata": {},
   "source": [
    "The `malicious` column is not necessary here, as we instead can use the `AttackType` category to discern exactly which attack type corresponds with this databus transmission."
   ]
  },
  {
   "cell_type": "code",
   "execution_count": null,
   "id": "f09d9040-c6f1-4fad-94bf-2d1f2cea130c",
   "metadata": {
    "tags": []
   },
   "outputs": [],
   "source": [
    "set.seed(106842)\n",
    "attack_data$malicious <- NULL\n",
    "attack_data <- type.convert(attack_data, as.is = TRUE)"
   ]
  },
  {
   "cell_type": "markdown",
   "id": "867d31f6-7cc3-460d-988d-22b861b52999",
   "metadata": {},
   "source": [
    "Just as before, we can perform a cleanup of the data.  This time around, `mice()` doesn't quite capture `sa` or the new `modeCodeVal` column, so we'll set those to 0 if they are missing."
   ]
  },
  {
   "cell_type": "code",
   "execution_count": null,
   "id": "def00fc7-9e01-4007-a265-dde4c8b0fcd2",
   "metadata": {
    "tags": []
   },
   "outputs": [],
   "source": [
    "rand_attack_data <- attack_data[sample(nrow(attack_data)), ]\n",
    "imputed_data <- mice(rand_attack_data, m=5, maxit=50, meth='pmm', seed=88109)\n",
    "completed_data <- complete(imputed_data, action=1)\n",
    "completed_data$sa[is.na(completed_data$sa)] <- 0\n",
    "completed_data$modeCodeVal[is.na(completed_data$modeCodeVal)] <- 0"
   ]
  },
  {
   "cell_type": "markdown",
   "id": "c99cb85f-67b8-4cd8-80ee-e287143b9dc4",
   "metadata": {},
   "source": [
    "We want to turn `AttackType` into a categorical variable, which in R is called a factor.  Then, we want to relevel the factor to specify \"None\" as the default for multinomial logistic regression."
   ]
  },
  {
   "cell_type": "code",
   "execution_count": null,
   "id": "c4010713-ca57-41e0-b447-c9a1eef661d9",
   "metadata": {
    "tags": []
   },
   "outputs": [],
   "source": [
    "completed_data$AttackType <- relevel(as.factor(completed_data$AttackType), ref = \"None\")"
   ]
  },
  {
   "cell_type": "markdown",
   "id": "59aeb3da-844f-41b4-a0e6-2021e7220bd4",
   "metadata": {},
   "source": [
    "After releveling our label, we'll split the data into training and test subsets."
   ]
  },
  {
   "cell_type": "code",
   "execution_count": null,
   "id": "abe04fa2-2506-494e-ac62-677ab7839be5",
   "metadata": {
    "tags": []
   },
   "outputs": [],
   "source": [
    "trainIndex <- caret::createDataPartition(completed_data$AttackType, p = 0.7, list  = FALSE, times = 1)\n",
    "train_data <- completed_data[trainIndex,]\n",
    "test_data <- completed_data[-trainIndex,]"
   ]
  },
  {
   "cell_type": "markdown",
   "id": "0318877c-1003-42b2-80bb-06f7a72b6bc1",
   "metadata": {},
   "source": [
    "## Modeling\n",
    "\n",
    "The `multinom()` function actually performs our multinomial logistic regression analysis.  Note that we don't need to do anything special--everything related to our SoftMax function, cross-entropy loss function, and weighting happens inside the `multinom()` function itself."
   ]
  },
  {
   "cell_type": "code",
   "execution_count": null,
   "id": "ae2ed717-86c4-4ece-9dba-5637c49c8c3a",
   "metadata": {
    "tags": []
   },
   "outputs": [],
   "source": [
    "model <- multinom(AttackType ~ dw0 + msgTime + rxSts + sa + gap + dsa + ssa + txSts + da + wc + modeCodeVal, data=train_data)\n"
   ]
  },
  {
   "cell_type": "markdown",
   "id": "d2f919f4-3708-4fd3-85e7-65e35868131b",
   "metadata": {},
   "source": [
    "Now that we have a model, we can see the coefficients and standard errors for each class.  The \"None\" class is the baseline, so each value is a relative change from the \"None\" case.  These weights don't necessarily make a lot of sense to us as-is but we can convert them into more human-useful results in a bit."
   ]
  },
  {
   "cell_type": "code",
   "execution_count": null,
   "id": "30a065c1-543b-4250-a2a0-e4ae6a779bde",
   "metadata": {
    "tags": []
   },
   "outputs": [],
   "source": [
    "summary(model)"
   ]
  },
  {
   "cell_type": "markdown",
   "id": "1d30c280-b1a6-477c-bd8a-abd2a99e77d6",
   "metadata": {},
   "source": [
    "We can take the exponent of coefficients to get the risk ratio of each variable for each class, giving us an indication of what a change in one of these values does to our likelihood of landing on a particular class."
   ]
  },
  {
   "cell_type": "code",
   "execution_count": null,
   "id": "48acd2cd-1c24-418d-af78-88490f0130dd",
   "metadata": {
    "tags": []
   },
   "outputs": [],
   "source": [
    "exp(coef(model))"
   ]
  },
  {
   "cell_type": "markdown",
   "id": "a9cbe39d-8039-4793-aaa3-2f2bc42fa803",
   "metadata": {},
   "source": [
    "The easiest way to see what the results look like is to use the `fitted()` function on our model.  Here, we can see that we were able to differentiate between these five classes of result rather easily.  Even after adding in the new datasets, it turns out that there's enough variation in the dataset to nearly-guarantee a single result."
   ]
  },
  {
   "cell_type": "code",
   "execution_count": null,
   "id": "11d3fc7c-ba60-4797-ae26-fea770589829",
   "metadata": {
    "tags": []
   },
   "outputs": [],
   "source": [
    "head(fitted(model))"
   ]
  },
  {
   "cell_type": "markdown",
   "id": "92c3c64f-bef5-4369-969c-ed3053f5cc91",
   "metadata": {},
   "source": [
    "## Evaluation against Test Data\n",
    "\n",
    "Nonetheless, we still want to test against unseen data.  Just because we did extremely well on the training data doesn't mean we'll nail the test dataset.  There are two methods we can use:  \"probs,\" which returns the probability of choosing each class; and \"class,\" which simply gives us the most likely class.  Let's perform each in turn."
   ]
  },
  {
   "cell_type": "code",
   "execution_count": null,
   "id": "4424ae7f-99d6-4a2f-b052-a84d13540cf5",
   "metadata": {
    "tags": []
   },
   "outputs": [],
   "source": [
    "model_pred <- predict(model, test_data, type=\"probs\")\n",
    "model_class <- predict(model, test_data, type=\"class\")"
   ]
  },
  {
   "cell_type": "markdown",
   "id": "30047a91-8dee-4eb9-88fc-f9be3404de3c",
   "metadata": {},
   "source": [
    "The result of viewing probabilities is a matrix where the row summation will always be 1.  If we didn't have such an easy task of differentiating results, this would likely include probabilities for multiple candidate results."
   ]
  },
  {
   "cell_type": "code",
   "execution_count": null,
   "id": "1d5717c2-3b2b-4640-8277-4793caf4b0aa",
   "metadata": {
    "tags": []
   },
   "outputs": [],
   "source": [
    "head(model_pred)"
   ]
  },
  {
   "cell_type": "markdown",
   "id": "48141c54-e4a8-4397-b7be-283bfedff163",
   "metadata": {},
   "source": [
    "The class returns our most likely response.  And drilling into Levels, we can see that we did, in fact, predict results for each class, something we have to be concerned about when dealing with imbalanced data."
   ]
  },
  {
   "cell_type": "code",
   "execution_count": null,
   "id": "f6095d57-1493-438d-9169-4649b4174ead",
   "metadata": {
    "tags": []
   },
   "outputs": [],
   "source": [
    "head(model_class)"
   ]
  },
  {
   "cell_type": "markdown",
   "id": "d7e70664-674e-4d89-a87a-a6b032c1aac4",
   "metadata": {},
   "source": [
    "Let's now combine together the predicted model class and the actual attack type in our test dataset."
   ]
  },
  {
   "cell_type": "code",
   "execution_count": null,
   "id": "167fecd3-2ba0-4c78-8a39-297db9d6eb95",
   "metadata": {
    "tags": []
   },
   "outputs": [],
   "source": [
    "outcomes <- cbind(as.data.frame(model_class), test_data)\n",
    "head(outcomes, 15)"
   ]
  },
  {
   "cell_type": "markdown",
   "id": "128dc1e6-a328-45d3-8e8b-0c839bfef34c",
   "metadata": {},
   "source": [
    "Once we've done that, we can use the confusion matrix to see how we did.  We see that the R logistic regression algorithm does a terrible job of separating regular denial of service attacks from broadcast denial of service attacks.  Because of this, we get every one of the classic DoS predictions wrong.  It does a great job of getting everything else correct, however."
   ]
  },
  {
   "cell_type": "code",
   "execution_count": null,
   "id": "286f32a7-bc3f-4b20-9fc0-99c46588f8bb",
   "metadata": {
    "tags": []
   },
   "outputs": [],
   "source": [
    "caret::confusionMatrix(as.factor(outcomes$model_class), as.factor(outcomes$AttackType))"
   ]
  },
  {
   "cell_type": "code",
   "execution_count": null,
   "id": "6134958e-4942-449a-85b6-8fb5c8dfcd88",
   "metadata": {},
   "outputs": [],
   "source": []
  }
 ],
 "metadata": {
  "kernelspec": {
   "display_name": "R",
   "language": "R",
   "name": "ir"
  },
  "language_info": {
   "codemirror_mode": "r",
   "file_extension": ".r",
   "mimetype": "text/x-r-source",
   "name": "R",
   "pygments_lexer": "r",
   "version": "4.2.3"
  }
 },
 "nbformat": 4,
 "nbformat_minor": 5
}

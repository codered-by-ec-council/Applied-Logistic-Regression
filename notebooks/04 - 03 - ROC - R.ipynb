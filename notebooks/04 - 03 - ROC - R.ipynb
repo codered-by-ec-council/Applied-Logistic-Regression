{
 "cells": [
  {
   "cell_type": "markdown",
   "id": "cc2e3235-c9e4-43ee-9fb1-20a42a413f1a",
   "metadata": {},
   "source": [
    "# The Receiver Operating Characteristic Curve in R\n",
    "\n",
    "In this notebook, we will train a logistic regression model on an extended dataset.  This includes variations of the original dataset, as well as some randomized records to ensure that our model does not end up perfect.  Then, we will build a confusion matrix and see how it aligns to the Receiver Operating Characteristic (ROC) curve.\n",
    "\n",
    "In addition to the `tidyverse` package, we will also use two more packages: `caret`, a general-purpose package which helps data scientists with common tasks; and `mice`, a library for imputing missing data."
   ]
  },
  {
   "cell_type": "code",
   "execution_count": null,
   "id": "0aaea4fa-3647-418a-be80-0e9c1c255243",
   "metadata": {
    "tags": []
   },
   "outputs": [],
   "source": [
    "library(tidyverse)\n",
    "library(caret)\n",
    "library(mice)"
   ]
  },
  {
   "cell_type": "markdown",
   "id": "01a741e6-0c3e-458b-b7d0-8aad9a6dafa1",
   "metadata": {},
   "source": [
    "## Train the Model\n",
    "\n",
    "Now that we have loaded the packages, let's quickly train a model."
   ]
  },
  {
   "cell_type": "code",
   "execution_count": null,
   "id": "a82d6664-962a-474f-a618-f8b538445ada",
   "metadata": {
    "tags": []
   },
   "outputs": [],
   "source": [
    "attack_data <- read_csv(\"../data/1553_dos_cm_R.csv\")\n",
    "set.seed(184856)\n",
    "rand_attack_data <- attack_data[sample(nrow(attack_data)), ]\n",
    "imputed_data <- mice(rand_attack_data, m=5, maxit=50, meth='pmm', seed=103409)\n",
    "completed_data <- complete(imputed_data, action=1)\n",
    "completed_data$sa[is.na(completed_data$sa)] <- 0\n",
    "completed_data$ssa[is.na(completed_data$ssa)] <- 20\n",
    "trainIndex <- caret::createDataPartition(completed_data$malicious, p = 0.7, list  = FALSE, times = 1)\n",
    "train_data <- completed_data[trainIndex,]\n",
    "test_data <- completed_data[-trainIndex,]"
   ]
  },
  {
   "cell_type": "code",
   "execution_count": null,
   "id": "eaef205e-aaff-4117-971e-ccb5cdf3084a",
   "metadata": {
    "tags": []
   },
   "outputs": [],
   "source": [
    "nrow(train_data)"
   ]
  },
  {
   "cell_type": "code",
   "execution_count": null,
   "id": "2c01d6eb-11a7-4b62-9a89-79974ccefdb5",
   "metadata": {
    "tags": []
   },
   "outputs": [],
   "source": [
    "nrow(test_data)"
   ]
  },
  {
   "cell_type": "code",
   "execution_count": null,
   "id": "a4b569d1-4483-4b3e-9de9-0aba289198ad",
   "metadata": {
    "tags": []
   },
   "outputs": [],
   "source": [
    "model <- glm(malicious ~ dw0 + msgTime + rxSts + sa + gap + dsa + ssa + txSts + da + wc, data=train_data, family=binomial)\n",
    "model"
   ]
  },
  {
   "cell_type": "code",
   "execution_count": null,
   "id": "fef7beaa-abcf-48db-912c-f755cbe4f91b",
   "metadata": {
    "tags": []
   },
   "outputs": [],
   "source": [
    "model_pred <- predict(model, test_data, type=\"response\")\n",
    "pred_malicious <- case_when(model_pred >= 0.5 ~ TRUE, is.na(model_pred) ~ NA, .default=FALSE)\n",
    "outcomes <- cbind(as.data.frame(pred_malicious), test_data)"
   ]
  },
  {
   "cell_type": "markdown",
   "id": "02b738ce-527c-4851-aaa4-b06e07a90a5d",
   "metadata": {
    "tags": []
   },
   "source": [
    "## Using the Confusion Matrix\n",
    "\n",
    "The `caret` package provides us an built-in confusion matrix, showing us the results for sensitivity and specificity, as well as positive and negative predictive value.\n",
    "\n",
    "In this case, our accuracy is 85.6% but our specificity (if the result was FALSE, did we predict FALSE?) is only 67.8% because we had 116 out of 171 correct.  We were very good with sensitivity (if the result was TRUE, did we predict TRUE?).\n",
    "\n",
    "In order to get the results to show up in the right order, we're going to label TRUE as \"Malicious\" and FALSE as \"Not Malicious\" because `confusionMatrix()` displays results in alphabetical order.  We will also set the positive indicator to \"Malicious\" to indicate that this is the outcome we want to see:  we want to capture malicious databus traffic."
   ]
  },
  {
   "cell_type": "code",
   "execution_count": null,
   "id": "aba9cc7a-a7fd-43c9-af00-7c8db4f79631",
   "metadata": {
    "tags": []
   },
   "outputs": [],
   "source": [
    "outcomes$pred_malicious_label <- case_when(outcomes$pred_malicious == TRUE ~ \"Malicious\", .default = \"Not Malicious\")\n",
    "outcomes$malicious_label <- case_when(outcomes$malicious == TRUE ~ \"Malicious\", .default = \"Not Malicious\")"
   ]
  },
  {
   "cell_type": "code",
   "execution_count": null,
   "id": "c6a01a49-f301-4505-8cdc-4194f6a407dc",
   "metadata": {
    "tags": []
   },
   "outputs": [],
   "source": [
    "caret::confusionMatrix(as.factor(outcomes$pred_malicious_label), as.factor(outcomes$malicious_label), positive='Malicious')"
   ]
  },
  {
   "cell_type": "markdown",
   "id": "f49be507-13f2-4a36-9128-7487a554cb2a",
   "metadata": {},
   "source": [
    "## Plotting the ROC Curve\n",
    "\n",
    "Now that we have our data, we can build a Receiver Operating Characteristic curve.  To do this, we will load the `pROC` library and use the `roc()` function to generate the ROC curve.  We will also use `ggroc()` to interact with the `ggplot2` library (installed as part of the `tidyverse` library) to generate a quick and easy drawing for us."
   ]
  },
  {
   "cell_type": "code",
   "execution_count": null,
   "id": "df3ded0a-2144-4679-8b97-a02abd4508c3",
   "metadata": {
    "tags": []
   },
   "outputs": [],
   "source": [
    "library(pROC)"
   ]
  },
  {
   "cell_type": "code",
   "execution_count": null,
   "id": "dc542d6e-9bc1-420a-a26c-4d94c67608c9",
   "metadata": {
    "tags": []
   },
   "outputs": [],
   "source": [
    "prob_malicious <- case_when(outcomes$malicious == TRUE ~ 1.0, .default = 0.0)\n",
    "rocobj <- roc(prob_malicious, model_pred)\n",
    "rocobj"
   ]
  },
  {
   "cell_type": "code",
   "execution_count": null,
   "id": "67e2f446-5e5d-4657-885f-7e0e4e37d95b",
   "metadata": {
    "tags": []
   },
   "outputs": [],
   "source": [
    "options(repr.plot.width=5, repr.plot.height=5)\n",
    "ggroc(rocobj) +\n",
    "    geom_abline(slope=1,intercept=1,color=\"#999999\") +\n",
    "    theme_minimal()"
   ]
  },
  {
   "cell_type": "markdown",
   "id": "78cdb513-9fbd-4a1e-af90-3c059e0a05f5",
   "metadata": {
    "tags": []
   },
   "source": [
    "### Defining Area Under the Curve\n",
    "\n",
    "We saw the calculation for area under the curve in the `rocobj` results, but we can also calculate it ourselves using the `auc()` function."
   ]
  },
  {
   "cell_type": "code",
   "execution_count": null,
   "id": "cd905a0b-7e3e-4c44-97b2-4a508585e5d8",
   "metadata": {
    "tags": []
   },
   "outputs": [],
   "source": [
    "auc <- round(auc(prob_malicious, model_pred),4)\n",
    "auc"
   ]
  },
  {
   "cell_type": "markdown",
   "id": "500e0f72-7d1c-49fc-a67d-b2e6e9dcebb9",
   "metadata": {},
   "source": [
    "## Finding the Best Fit\n",
    "\n",
    "The ROC curve tells us the scope of how well we can perform given our current model.  In other words, it gives us a tradeoff between sensitivity and (1 - specificity):  to imrpove specificity, we necessarily decrease sensitivity, and vice versa.  There are a few different calculations of what is the 'best' trade-off and the most popular one is Youden's J Statistic, which measures the maximum distance from our curve to the diagonal line.\n",
    "\n",
    "Note that this also matches up with the results we see in the confusion matrix!"
   ]
  },
  {
   "cell_type": "code",
   "execution_count": null,
   "id": "8c6bec3a-bf53-4e19-be2e-b6786f6ff41c",
   "metadata": {
    "tags": []
   },
   "outputs": [],
   "source": [
    "coords(rocobj, \"best\", transpose = FALSE, best.method=\"youden\")"
   ]
  },
  {
   "cell_type": "code",
   "execution_count": null,
   "id": "570fad44-6d02-4492-b519-2863ca7dd402",
   "metadata": {},
   "outputs": [],
   "source": []
  }
 ],
 "metadata": {
  "kernelspec": {
   "display_name": "R",
   "language": "R",
   "name": "ir"
  },
  "language_info": {
   "codemirror_mode": "r",
   "file_extension": ".r",
   "mimetype": "text/x-r-source",
   "name": "R",
   "pygments_lexer": "r",
   "version": "4.2.3"
  }
 },
 "nbformat": 4,
 "nbformat_minor": 5
}

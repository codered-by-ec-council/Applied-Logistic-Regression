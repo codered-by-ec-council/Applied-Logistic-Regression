{
 "cells": [
  {
   "cell_type": "markdown",
   "id": "c0cfad71-89b6-4538-8597-77469da213fd",
   "metadata": {},
   "source": [
    "# Clean Up Sample Attack Data\n",
    "\n",
    "This notebook will clean up a sample attack data file and prepare us for logistic regression.\n",
    "\n",
    "We will the `Pandas` and `NumPy` libraries, two useful Python libraries for data science."
   ]
  },
  {
   "cell_type": "code",
   "execution_count": null,
   "id": "43bdb403-9354-425e-b58e-4e2970ab1e53",
   "metadata": {
    "tags": []
   },
   "outputs": [],
   "source": [
    "import pandas as pd\n",
    "import numpy as np"
   ]
  },
  {
   "cell_type": "code",
   "execution_count": null,
   "id": "423fae74-a1d7-4e97-8f44-d58ad0d6f07f",
   "metadata": {
    "tags": []
   },
   "outputs": [],
   "source": [
    "df = pd.read_csv(\"../data/1553_dos_attack1.csv\")"
   ]
  },
  {
   "cell_type": "markdown",
   "id": "fd75e77b-5a34-4037-ba89-b4802db22cf4",
   "metadata": {},
   "source": [
    "## Data Operations\n",
    "\n",
    "Let's take a quick review of the data.  We can see that there are many instances of NaN in our dataset."
   ]
  },
  {
   "cell_type": "code",
   "execution_count": null,
   "id": "7d43d5b3-3c9b-4f88-950b-3e4c77ed416b",
   "metadata": {
    "tags": []
   },
   "outputs": [],
   "source": [
    "df"
   ]
  },
  {
   "cell_type": "markdown",
   "id": "a22d16a9-24af-4f94-b3ec-76ad3468260d",
   "metadata": {},
   "source": [
    "We'll replace NumPy's `NaN` with Python's `None` to make our next data cleanup easier.  It turns out that when we re-load the data for the next notebook, everything will be read in again as `NaN`."
   ]
  },
  {
   "cell_type": "code",
   "execution_count": null,
   "id": "cac1a1c0-158a-421e-a3bc-98d762473105",
   "metadata": {
    "tags": []
   },
   "outputs": [],
   "source": [
    "df = df.replace({np.nan:None})"
   ]
  },
  {
   "cell_type": "markdown",
   "id": "6a93dafe-97ee-4445-8c9d-1def2b5ea615",
   "metadata": {},
   "source": [
    "In the prior notebook, we learned that only certain features seem to influence our `malicious` label.  Therefore, for the sake of simplicity, we will only include those features.\n",
    "\n",
    "Note that we also remove a few features like `timestamp`, which do correlate to `malicious` but have zero predictive value."
   ]
  },
  {
   "cell_type": "code",
   "execution_count": null,
   "id": "fabe0227-d5ec-4370-88d9-566bd4779c0d",
   "metadata": {
    "tags": []
   },
   "outputs": [],
   "source": [
    "df_selective = df[['malicious', 'dw0', 'msgTime', 'rxSts', 'sa', 'gap', 'dsa', 'connType', 'ssa', 'txSts', 'da', 'wc', 'modeCode']]"
   ]
  },
  {
   "cell_type": "code",
   "execution_count": null,
   "id": "447460c4-e759-496b-97b8-caa7175e2295",
   "metadata": {
    "tags": []
   },
   "outputs": [],
   "source": [
    "df_selective.head(5)"
   ]
  },
  {
   "cell_type": "markdown",
   "id": "4b3277e4-fd99-427f-9431-396d67fdd2cd",
   "metadata": {},
   "source": [
    "The R notebook auto-converted our binary data elements to integers, but Python kept them as strings.  Let's convert `0x0010` and the like to their appropriate integer values."
   ]
  },
  {
   "cell_type": "code",
   "execution_count": null,
   "id": "a3ef53fc-cfcd-4f1a-acfe-a72f06956f3a",
   "metadata": {
    "tags": []
   },
   "outputs": [],
   "source": [
    "df_selective['dw0'] = df_selective['dw0'].transform(lambda d: None if pd.isnull(d) else int(d, 16))\n",
    "df_selective['rxSts'] = df_selective['rxSts'].transform(lambda d: None if pd.isnull(d) else int(d, 16))\n",
    "df_selective['txSts'] = df_selective['txSts'].transform(lambda d: None if pd.isnull(d) else int(d, 16))"
   ]
  },
  {
   "cell_type": "markdown",
   "id": "2422edc1-33f1-4f47-9aac-e11503663834",
   "metadata": {},
   "source": [
    "Let's take a quick look to make sure that our results look okay."
   ]
  },
  {
   "cell_type": "code",
   "execution_count": null,
   "id": "d52ca9f0-7321-4157-ae46-f61384d5a65d",
   "metadata": {
    "tags": []
   },
   "outputs": [],
   "source": [
    "df_selective.head()"
   ]
  },
  {
   "cell_type": "markdown",
   "id": "abc4c3eb-669c-450a-a390-1db55e7bd920",
   "metadata": {},
   "source": [
    "## Write Out Results\n",
    "\n",
    "Now that we're satisfied with the results, we can write them out and pick it back up in the next notebook."
   ]
  },
  {
   "cell_type": "code",
   "execution_count": null,
   "id": "8a38e783-8490-4f5d-ad84-e9e2b42dcf0a",
   "metadata": {
    "tags": []
   },
   "outputs": [],
   "source": [
    "df_selective.to_csv(\"../1553_dos_attack1_Py_clean.csv\", index=False)"
   ]
  },
  {
   "cell_type": "code",
   "execution_count": null,
   "id": "d3b20018-504c-4e91-8d08-9d11c513db62",
   "metadata": {},
   "outputs": [],
   "source": []
  }
 ],
 "metadata": {
  "kernelspec": {
   "display_name": "Python 3 (ipykernel)",
   "language": "python",
   "name": "python3"
  },
  "language_info": {
   "codemirror_mode": {
    "name": "ipython",
    "version": 3
   },
   "file_extension": ".py",
   "mimetype": "text/x-python",
   "name": "python",
   "nbconvert_exporter": "python",
   "pygments_lexer": "ipython3",
   "version": "3.10.9"
  }
 },
 "nbformat": 4,
 "nbformat_minor": 5
}

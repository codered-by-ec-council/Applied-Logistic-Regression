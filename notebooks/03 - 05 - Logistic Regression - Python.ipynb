{
 "cells": [
  {
   "cell_type": "markdown",
   "id": "795bb406-c428-42c8-ac9d-972cc8a3992e",
   "metadata": {},
   "source": [
    "# Model a Logistic Regression in Python\n",
    "\n",
    "This notebook will perform logistic regression on our sample data.  The total number of sample records is not great, though given that most of our input features have very few unique values, it's not quite as bad as it would first appear to be.\n",
    "\n",
    "In addition to the `Pandas` and `NumPy` libraries, we will also use a few functions from `scikit-learn`, another great package for data scientists to use."
   ]
  },
  {
   "cell_type": "code",
   "execution_count": null,
   "id": "e5d343eb-2be3-4b33-ba16-17805151f339",
   "metadata": {
    "tags": []
   },
   "outputs": [],
   "source": [
    "import pandas as pd\n",
    "import numpy as np\n",
    "from sklearn.linear_model import LogisticRegression\n",
    "from sklearn.model_selection import train_test_split\n",
    "from sklearn.preprocessing import OrdinalEncoder\n",
    "from sklearn.impute import SimpleImputer\n",
    "from sklearn.metrics import accuracy_score"
   ]
  },
  {
   "cell_type": "code",
   "execution_count": null,
   "id": "440c476b-a0d9-4ddf-9368-4da48de48943",
   "metadata": {
    "tags": []
   },
   "outputs": [],
   "source": [
    "df = pd.read_csv(\"../1553_dos_attack1_Py_clean.csv\")"
   ]
  },
  {
   "cell_type": "markdown",
   "id": "2aa88fc6-409c-47f9-a9c6-d4af5852f0cb",
   "metadata": {},
   "source": [
    "Note that, even though we set missing values to `None`, NumPy reverted them to `NaN`.  This is fine for our analysis."
   ]
  },
  {
   "cell_type": "code",
   "execution_count": null,
   "id": "8acc013e-21c7-4a8a-bac1-bd2c41051e0f",
   "metadata": {
    "tags": []
   },
   "outputs": [],
   "source": [
    "df.head(5)"
   ]
  },
  {
   "cell_type": "markdown",
   "id": "2a82bd5c-0746-4c80-85cc-b4278ea6ed05",
   "metadata": {},
   "source": [
    "## Data Preparation\n",
    "\n",
    "Aside from the work we've already done, there are a few additional tweaks we need to make to the data before everything can go live.  First up is encoding our `connType` variable, as Python requires all inputs be numeric.  We'll use the `OrdinalEncoder` in sklearn to transform strings like \"BC->RT\" to arbitrary numbers."
   ]
  },
  {
   "cell_type": "code",
   "execution_count": null,
   "id": "78b4890a-2632-487e-93ac-af18addfcaa8",
   "metadata": {
    "tags": []
   },
   "outputs": [],
   "source": [
    "string_cols = df.select_dtypes(include=[object]).columns.values\n",
    "enc = OrdinalEncoder()\n",
    "enc.fit(df[string_cols])\n",
    "df[string_cols] = enc.transform(df[string_cols])"
   ]
  },
  {
   "cell_type": "code",
   "execution_count": null,
   "id": "33a21141-9266-44d7-9f3f-56d67d539acd",
   "metadata": {
    "tags": []
   },
   "outputs": [],
   "source": [
    "df['connType'].unique()"
   ]
  },
  {
   "cell_type": "markdown",
   "id": "b2d09940-b115-47f6-8ced-e9048d64b9d1",
   "metadata": {},
   "source": [
    "Next, let's split our data into two sets:  `y`, which contains our label; and `x`, which contains all of our features."
   ]
  },
  {
   "cell_type": "code",
   "execution_count": null,
   "id": "ffdb3cc7-4117-48f7-95a2-91ac0defe6ec",
   "metadata": {
    "tags": []
   },
   "outputs": [],
   "source": [
    "y = df['malicious']"
   ]
  },
  {
   "cell_type": "code",
   "execution_count": null,
   "id": "81bfd725-edbe-4813-91b5-da655efa9b22",
   "metadata": {
    "tags": []
   },
   "outputs": [],
   "source": [
    "x = df.loc[:, df.columns != 'malicious']"
   ]
  },
  {
   "cell_type": "code",
   "execution_count": null,
   "id": "e992c65f-3a26-4211-a50f-e22758b03115",
   "metadata": {
    "tags": []
   },
   "outputs": [],
   "source": [
    "y.head(5)"
   ]
  },
  {
   "cell_type": "code",
   "execution_count": null,
   "id": "bada9a95-15e4-48a9-9fdb-ac92761d553f",
   "metadata": {
    "tags": []
   },
   "outputs": [],
   "source": [
    "x.head(5)"
   ]
  },
  {
   "cell_type": "markdown",
   "id": "aad7707c-9229-43ed-bb3f-8dc48198d22f",
   "metadata": {},
   "source": [
    "## Impute Missing Data\n",
    "\n",
    "Unlike the library we used for R, sklearn's logistic regression function will not accept missing values.  We can check to see how many records, per column, are missing data."
   ]
  },
  {
   "cell_type": "code",
   "execution_count": null,
   "id": "88db5313-838e-42a5-b647-78dd3a238030",
   "metadata": {
    "tags": []
   },
   "outputs": [],
   "source": [
    "x.isna().sum()"
   ]
  },
  {
   "cell_type": "markdown",
   "id": "896e4063-076d-4d12-a158-0cb544b493c6",
   "metadata": {},
   "source": [
    "To fix this, we will use the sklearn `SimpleImputer` and tell it to set missing values to the mean of all values."
   ]
  },
  {
   "cell_type": "code",
   "execution_count": null,
   "id": "fda552fe-b718-4292-aa14-bd74d9472639",
   "metadata": {
    "tags": []
   },
   "outputs": [],
   "source": [
    "imp_mean = SimpleImputer(missing_values=np.nan, strategy='mean')"
   ]
  },
  {
   "cell_type": "code",
   "execution_count": null,
   "id": "ae2c9b36-1a2e-420b-b346-999dc08785c0",
   "metadata": {
    "tags": []
   },
   "outputs": [],
   "source": [
    "x[:] = imp_mean.fit_transform(x)"
   ]
  },
  {
   "cell_type": "markdown",
   "id": "f3c5dcbc-d942-4c32-9768-db714e871b8b",
   "metadata": {},
   "source": [
    "After doing this, there are no more missing values."
   ]
  },
  {
   "cell_type": "code",
   "execution_count": null,
   "id": "b28b00de-36e9-4464-825e-eb93d250e5bf",
   "metadata": {
    "tags": []
   },
   "outputs": [],
   "source": [
    "x.isna().sum()"
   ]
  },
  {
   "cell_type": "markdown",
   "id": "c85349ba-e31a-4e93-a1e0-fe4a5047730d",
   "metadata": {},
   "source": [
    "## Partition Data\n",
    "\n",
    "The next step is to break our data out into training and test datasets, reserving approximately 30% of the data for test."
   ]
  },
  {
   "cell_type": "code",
   "execution_count": null,
   "id": "233876ce-36ae-45d1-ba49-c9a2d766d0e7",
   "metadata": {
    "tags": []
   },
   "outputs": [],
   "source": [
    "x_train, x_test, y_train, y_test = train_test_split(x, y, test_size=0.3, stratify=y)"
   ]
  },
  {
   "cell_type": "code",
   "execution_count": null,
   "id": "1b5851ef-94c2-43c1-b6a9-a04144c2f84e",
   "metadata": {
    "tags": []
   },
   "outputs": [],
   "source": [
    "len(x_train)"
   ]
  },
  {
   "cell_type": "code",
   "execution_count": null,
   "id": "7a553b92-5fce-44ca-94ed-c2c3ce190d7b",
   "metadata": {
    "tags": []
   },
   "outputs": [],
   "source": [
    "len(x_test)"
   ]
  },
  {
   "cell_type": "markdown",
   "id": "8336871f-f208-4341-a544-db8256d34988",
   "metadata": {},
   "source": [
    "## Training a Model\n",
    "\n",
    "Training a model is very easy to do with Python and sklearn.  The `LogisticRegression` constructor allows us to create a regression object, to which we can fit our training and test data."
   ]
  },
  {
   "cell_type": "code",
   "execution_count": null,
   "id": "dc1af6f8-01fa-4c6e-9b1f-05806fd973d3",
   "metadata": {
    "tags": []
   },
   "outputs": [],
   "source": [
    "clf = LogisticRegression(random_state=184856).fit(x_train, y_train)"
   ]
  },
  {
   "cell_type": "markdown",
   "id": "4a16ef81-3720-4162-a08c-0eb725e2aa3d",
   "metadata": {},
   "source": [
    "In order to perform a prediction, we pass in our test data **without** the labels."
   ]
  },
  {
   "cell_type": "code",
   "execution_count": null,
   "id": "00a04598-3074-4e9e-818d-0e3ba03bc683",
   "metadata": {
    "tags": []
   },
   "outputs": [],
   "source": [
    "y_pred = clf.predict(x_test)"
   ]
  },
  {
   "cell_type": "markdown",
   "id": "a420c333-3068-47e6-a0d8-482beae5dee9",
   "metadata": {},
   "source": [
    "Instead of calculating accuracy ourselves, we can use a function in sklearn.metrics called `accuracy_score()` to get the result for us.  In this case, both R and Python collected 100% accuracy on this simple dataset."
   ]
  },
  {
   "cell_type": "code",
   "execution_count": null,
   "id": "0b207732-fb6b-4f36-a485-e0743f1b0ce4",
   "metadata": {
    "tags": []
   },
   "outputs": [],
   "source": [
    "accuracy_score(y_test, y_pred)"
   ]
  },
  {
   "cell_type": "code",
   "execution_count": null,
   "id": "da3c6c3a-bb10-4eb5-a0f5-e626024b2b33",
   "metadata": {},
   "outputs": [],
   "source": []
  }
 ],
 "metadata": {
  "kernelspec": {
   "display_name": "base",
   "language": "python",
   "name": "python3"
  },
  "language_info": {
   "codemirror_mode": {
    "name": "ipython",
    "version": 3
   },
   "file_extension": ".py",
   "mimetype": "text/x-python",
   "name": "python",
   "nbconvert_exporter": "python",
   "pygments_lexer": "ipython3",
   "version": "3.9.13 (main, Aug 25 2022, 23:51:50) [MSC v.1916 64 bit (AMD64)]"
  },
  "vscode": {
   "interpreter": {
    "hash": "ad2bdc8ecc057115af97d19610ffacc2b4e99fae6737bb82f5d7fb13d2f2c186"
   }
  }
 },
 "nbformat": 4,
 "nbformat_minor": 5
}

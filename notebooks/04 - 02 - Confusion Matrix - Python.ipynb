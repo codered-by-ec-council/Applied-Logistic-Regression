{
 "cells": [
  {
   "cell_type": "markdown",
   "id": "4d1d97a3-f565-4419-9bc8-c4d0671ec52d",
   "metadata": {},
   "source": [
    "# Building a Confusion Matrix in Python\n",
    "\n",
    "In this notebook, we will train a logistic regression model on an extended dataset.  This includes variations of the original dataset, as well as some randomized records to ensure that our model does not end up perfect.\n",
    "\n",
    "In addition to the `Pandas` and `NumPy` libraries, we will also use a few functions from `scikit-learn`, another great package for data scientists to use."
   ]
  },
  {
   "cell_type": "code",
   "execution_count": null,
   "id": "21783860-74cd-4f99-9e07-c6f97c3c72b2",
   "metadata": {
    "tags": []
   },
   "outputs": [],
   "source": [
    "import pandas as pd\n",
    "import numpy as np\n",
    "from sklearn.linear_model import LogisticRegression\n",
    "from sklearn.model_selection import train_test_split\n",
    "from sklearn.preprocessing import OrdinalEncoder\n",
    "from sklearn.impute import SimpleImputer\n",
    "from sklearn.metrics import accuracy_score"
   ]
  },
  {
   "cell_type": "code",
   "execution_count": null,
   "id": "5b65304e-22f0-4437-9ca7-7ac1004be348",
   "metadata": {
    "tags": []
   },
   "outputs": [],
   "source": [
    "df = pd.read_csv(\"../data/1553_dos_cm_Py.csv\")"
   ]
  },
  {
   "cell_type": "markdown",
   "id": "c5db6f7c-31e7-42a1-aa1b-548a921e6ce8",
   "metadata": {},
   "source": [
    "## Train the Model\n",
    "\n",
    "Now that we have loaded the packages, let's quickly define an encoder and then train a model."
   ]
  },
  {
   "cell_type": "code",
   "execution_count": null,
   "id": "1ea2f7ab-bb4f-4989-9668-5b9fd9282ac8",
   "metadata": {
    "tags": []
   },
   "outputs": [],
   "source": [
    "string_cols = df.select_dtypes(include=[object]).columns.values\n",
    "enc = OrdinalEncoder()\n",
    "enc.fit(df[string_cols])\n",
    "df[string_cols] = enc.transform(df[string_cols])"
   ]
  },
  {
   "cell_type": "code",
   "execution_count": null,
   "id": "12657135-84f6-4c37-904d-99375cbe3ec1",
   "metadata": {
    "tags": []
   },
   "outputs": [],
   "source": [
    "y = df['malicious']\n",
    "x = df.loc[:, df.columns != 'malicious']\n",
    "imp_mean = SimpleImputer(missing_values=np.nan, strategy='mean')\n",
    "x[:] = imp_mean.fit_transform(x)\n",
    "x_train, x_test, y_train, y_test = train_test_split(x, y, test_size=0.3, stratify=y)\n",
    "clf = LogisticRegression(random_state=184856).fit(x_train, y_train)\n",
    "y_pred = clf.predict(x_test)"
   ]
  },
  {
   "cell_type": "markdown",
   "id": "53c77a9c-554b-4efd-9bcd-518d4c65921a",
   "metadata": {},
   "source": [
    "## Using the Confusion Matrix\n",
    "\n",
    "`sklearn.metrics` includes two functions which support confusion matrices:  `confusion_matrix()` and `classification_report()`."
   ]
  },
  {
   "cell_type": "code",
   "execution_count": null,
   "id": "cd4dc4e5-b58b-4d72-aef7-6673122d7837",
   "metadata": {
    "tags": []
   },
   "outputs": [],
   "source": [
    "from sklearn.metrics import confusion_matrix, classification_report"
   ]
  },
  {
   "cell_type": "markdown",
   "id": "015a7b3b-a9f4-4c67-a251-04922a828cb8",
   "metadata": {},
   "source": [
    "The `confusion_matrix()` function simply returns an array.\n",
    "\n",
    "Note that this array is shaped differently from R!  In this case, **actual** results are the **rows** and **predicted** values are the **columns**.  Also, labels are ordered in a way that looks like:\n",
    "\n",
    "| |Pred FALSE|Pred TRUE|\n",
    "|-|----------|---------|\n",
    "|**Act FALSE**|TN|FP|\n",
    "|**Act TRUE**|FN|TP|\n",
    "\n",
    "This can be a bit confusing because the matrix is partially inverted from what we see in R:\n",
    "\n",
    "| |Act TRUE|Act FALSE|\n",
    "|-|----------|---------|\n",
    "|**Pred TRUE**|TP|FP|\n",
    "|**Pred FALSE**|FN|TN|"
   ]
  },
  {
   "cell_type": "code",
   "execution_count": null,
   "id": "656c3c20-68df-48f2-944d-4a40ad976476",
   "metadata": {
    "tags": []
   },
   "outputs": [],
   "source": [
    "confusion_matrix(y_test, y_pred)"
   ]
  },
  {
   "cell_type": "markdown",
   "id": "5124954e-9f92-44c4-a12f-8629ffc691fd",
   "metadata": {},
   "source": [
    "The `classification_report()` function returns information on the confusion matrix.\n",
    "\n",
    "An important note is that we can translate precision and recall into sensitivity and specificity for a two-class problem like this one.  Precision and recall are calculated on a per-class basis in the sklearn confusion matrix, so:\n",
    "\n",
    "`False Precision = TN / (TN + FN)`\n",
    "\n",
    "`False Recall = TN / (TN + FP)`\n",
    "\n",
    "`True Precision = TP / (FP + TP)`\n",
    "\n",
    "`True Recall = TP / (FN + TP)`\n",
    "\n",
    "Translating this back to the terms we used before:\n",
    "\n",
    "`Sensitivity = TP / (TP + FN) == True Recall`\n",
    "\n",
    "`Specificity = TN / (TN + FP) == False Recall`\n",
    "\n",
    "`Positive Predictive Value = TP / (TP + FP) == True Precision`\n",
    "\n",
    "`Negative Predictive Value = TN / (FN + TN) == False Precision`"
   ]
  },
  {
   "cell_type": "code",
   "execution_count": null,
   "id": "e2a1fb58-ae59-433c-8b99-637d81b1ca9f",
   "metadata": {
    "tags": []
   },
   "outputs": [],
   "source": [
    "print(classification_report(y_test, y_pred))"
   ]
  },
  {
   "cell_type": "code",
   "execution_count": null,
   "id": "1a46a33e-4cf3-4404-9da6-06b00e865831",
   "metadata": {},
   "outputs": [],
   "source": []
  }
 ],
 "metadata": {
  "kernelspec": {
   "display_name": "Python 3 (ipykernel)",
   "language": "python",
   "name": "python3"
  },
  "language_info": {
   "codemirror_mode": {
    "name": "ipython",
    "version": 3
   },
   "file_extension": ".py",
   "mimetype": "text/x-python",
   "name": "python",
   "nbconvert_exporter": "python",
   "pygments_lexer": "ipython3",
   "version": "3.10.10"
  }
 },
 "nbformat": 4,
 "nbformat_minor": 5
}

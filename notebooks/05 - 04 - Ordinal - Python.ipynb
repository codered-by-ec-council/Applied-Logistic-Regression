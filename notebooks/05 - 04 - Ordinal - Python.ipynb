{
 "cells": [
  {
   "cell_type": "markdown",
   "id": "95268c50-8c00-4ebd-9030-7b6c89e6fe8b",
   "metadata": {},
   "source": [
    "# Model an Ordinal Logistic Regression in Python\n",
    "\n",
    "This notebook will perform ordinal logistic regression on our sample data.  We will use a new dataset for this analysis, one which is more amenable to our analysis, as it includes ranked ordering.\n",
    "\n",
    "For prior analysis, we've used `pandas`, `numpy`, and a variety of functions from `scikit-learn`.  Now we'll add the `statsmodels` library and replace sklearn's `LogisticRegression()` class with `OrderedModel()`."
   ]
  },
  {
   "cell_type": "code",
   "execution_count": null,
   "id": "70ad693b-f1e3-43ec-91f5-d954a77409d4",
   "metadata": {
    "tags": []
   },
   "outputs": [],
   "source": [
    "import pandas as pd\n",
    "import numpy as np\n",
    "from sklearn.model_selection import train_test_split\n",
    "from sklearn.preprocessing import OrdinalEncoder\n",
    "from sklearn.impute import SimpleImputer\n",
    "from sklearn.metrics import accuracy_score\n",
    "from sklearn.metrics import confusion_matrix, classification_report\n",
    "from statsmodels.miscmodels.ordinal_model import OrderedModel"
   ]
  },
  {
   "cell_type": "markdown",
   "id": "50d93d17-67a7-4254-9659-c00d1e0847c4",
   "metadata": {},
   "source": [
    "This dataset is in Stata format.  Stata is a paid product for data analysis, but we don't have it available to us here."
   ]
  },
  {
   "cell_type": "code",
   "execution_count": null,
   "id": "66ae3581-57ca-4d1b-a3c5-c5bb0dfc7e1b",
   "metadata": {
    "tags": []
   },
   "outputs": [],
   "source": [
    "df = pd.read_stata(\"../data/ologit.dta\")\n",
    "df.head()"
   ]
  },
  {
   "cell_type": "markdown",
   "id": "88cffc97-af33-438c-a960-97de37a68190",
   "metadata": {},
   "source": [
    "One nice thing about loading data in Stata format is that we can capture that `apply` is an ordered categorical variable without needing to specify it ourselves."
   ]
  },
  {
   "cell_type": "code",
   "execution_count": null,
   "id": "b39cbbf4-b3c6-4716-81d8-6fe7a773b2e0",
   "metadata": {
    "tags": []
   },
   "outputs": [],
   "source": [
    "df.dtypes"
   ]
  },
  {
   "cell_type": "code",
   "execution_count": null,
   "id": "f2b11810-a508-4d5b-8e1c-50828e3285a3",
   "metadata": {
    "tags": []
   },
   "outputs": [],
   "source": [
    "df['apply'].dtype"
   ]
  },
  {
   "cell_type": "markdown",
   "id": "8c51d300-d309-411b-8218-c19912442b50",
   "metadata": {},
   "source": [
    "Similar to other analyses, we'll split our data into X and Y subsets and then into training and test splits."
   ]
  },
  {
   "cell_type": "code",
   "execution_count": null,
   "id": "defe0050-ca19-495d-885b-70b3e4d40655",
   "metadata": {
    "tags": []
   },
   "outputs": [],
   "source": [
    "y = df['apply']\n",
    "x = df.drop(['apply'], axis=1)"
   ]
  },
  {
   "cell_type": "code",
   "execution_count": null,
   "id": "bf1bbc8c-9ba6-41e6-bb2d-7fec1647219d",
   "metadata": {
    "tags": []
   },
   "outputs": [],
   "source": [
    "x_train, x_test, y_train, y_test = train_test_split(x, y, test_size=0.3, stratify=y)"
   ]
  },
  {
   "cell_type": "markdown",
   "id": "3c3f2b6e-3756-47be-a0f5-be34504aa979",
   "metadata": {
    "tags": []
   },
   "source": [
    "## Training a Model\n",
    "\n",
    "The operation for statsmodels algorithms is a bit different from scikit-learn.  Here, we need to pass in the training dataset when we instantiate the ordered model, and then we specify the method we'll use when fitting on that trained dataset."
   ]
  },
  {
   "cell_type": "code",
   "execution_count": null,
   "id": "8ebfb4df-4c1a-4cfe-91cc-654db32e15a3",
   "metadata": {
    "tags": []
   },
   "outputs": [],
   "source": [
    "clf = OrderedModel(y_train, x_train, distr='probit')\n",
    "model = clf.fit(method='bfgs')"
   ]
  },
  {
   "cell_type": "markdown",
   "id": "39601519-23b5-4a75-ac7a-c45e56067fb2",
   "metadata": {},
   "source": [
    "Statsmodels also gives us back a nicely formatted table with results."
   ]
  },
  {
   "cell_type": "code",
   "execution_count": null,
   "id": "b55da3e7-a3ff-4bab-a8b6-8567e9ca2a22",
   "metadata": {
    "tags": []
   },
   "outputs": [],
   "source": [
    "model.summary()"
   ]
  },
  {
   "cell_type": "markdown",
   "id": "45a7a726-47d7-4279-8bfb-7f56709d006c",
   "metadata": {},
   "source": [
    "## Evaluating the Model\n",
    "\n",
    "Now that we've trained our model, we can generate predictions.  Predictions are going to be a bit different here, as we need to send in the parameters from our trained model--that's not stored with the classifier itself."
   ]
  },
  {
   "cell_type": "code",
   "execution_count": null,
   "id": "e48c0bf4-372e-44a9-a16c-1f4b6fe46170",
   "metadata": {
    "tags": []
   },
   "outputs": [],
   "source": [
    "y_pred = clf.predict(model.params, x_test)"
   ]
  },
  {
   "cell_type": "markdown",
   "id": "d7cdb820-6d6d-4486-97c9-b14d258efc93",
   "metadata": {},
   "source": [
    "Also, predictions are in terms of probabilities, so we can sue `argmax(1)` to get the position of the value with the largest probability for each row."
   ]
  },
  {
   "cell_type": "code",
   "execution_count": null,
   "id": "95281576-c2b7-4956-bae3-79104a8196cc",
   "metadata": {
    "tags": []
   },
   "outputs": [],
   "source": [
    "y_pred[0:5]"
   ]
  },
  {
   "cell_type": "code",
   "execution_count": null,
   "id": "af84ea22-fecd-4716-a8db-01ab5d731916",
   "metadata": {
    "tags": []
   },
   "outputs": [],
   "source": [
    "y_pred.argmax(1)"
   ]
  },
  {
   "cell_type": "markdown",
   "id": "84a7cbf3-904d-40d7-9cb0-d8aa5e8158e4",
   "metadata": {},
   "source": [
    "To compare these results to our initial test values, we can transform the ordered categories into underlying codes."
   ]
  },
  {
   "cell_type": "code",
   "execution_count": null,
   "id": "aaf13b74-bf80-49ca-9790-a9ce54006957",
   "metadata": {
    "tags": []
   },
   "outputs": [],
   "source": [
    "y_test.values.codes"
   ]
  },
  {
   "cell_type": "markdown",
   "id": "0a8efba6-46ef-4ab1-8a95-07b342a75015",
   "metadata": {},
   "source": [
    "Now we have enough that we can build a confusion matrix and see how we did."
   ]
  },
  {
   "cell_type": "code",
   "execution_count": null,
   "id": "e2eb9360-14cc-458f-8e92-0feffaa5a072",
   "metadata": {
    "tags": []
   },
   "outputs": [],
   "source": [
    "confusion_matrix(y_test.values.codes, y_pred.argmax(1))"
   ]
  },
  {
   "cell_type": "code",
   "execution_count": null,
   "id": "3eb88db6-3275-4ed7-bb8d-0f41d153cf11",
   "metadata": {
    "tags": []
   },
   "outputs": [],
   "source": [
    "print(classification_report(y_test.values.codes, y_pred.argmax(1)))"
   ]
  },
  {
   "cell_type": "code",
   "execution_count": null,
   "id": "84693d36-19bb-45ba-b9d3-c6473786475c",
   "metadata": {},
   "outputs": [],
   "source": []
  }
 ],
 "metadata": {
  "kernelspec": {
   "display_name": "Python 3 (ipykernel)",
   "language": "python",
   "name": "python3"
  },
  "language_info": {
   "codemirror_mode": {
    "name": "ipython",
    "version": 3
   },
   "file_extension": ".py",
   "mimetype": "text/x-python",
   "name": "python",
   "nbconvert_exporter": "python",
   "pygments_lexer": "ipython3",
   "version": "3.10.10"
  }
 },
 "nbformat": 4,
 "nbformat_minor": 5
}

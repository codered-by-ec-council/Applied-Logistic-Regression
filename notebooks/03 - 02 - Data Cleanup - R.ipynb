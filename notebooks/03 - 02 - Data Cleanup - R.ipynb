{
 "cells": [
  {
   "cell_type": "markdown",
   "id": "15a3a0e3-a586-4263-b70a-6728771cb4e5",
   "metadata": {},
   "source": [
    "# Clean Up Sample Attack Data\n",
    "\n",
    "This notebook will clean up a sample attack data file and prepare us for logistic regression.\n",
    "\n",
    "We will load the `tidyverse` package, which allows us to perform data operations with ease."
   ]
  },
  {
   "cell_type": "code",
   "execution_count": null,
   "id": "900a61bd-2c11-419c-b193-8b1fe7dac69d",
   "metadata": {
    "tags": [],
    "vscode": {
     "languageId": "r"
    }
   },
   "outputs": [],
   "source": [
    "library(tidyverse)"
   ]
  },
  {
   "cell_type": "code",
   "execution_count": null,
   "id": "d2bf3919-0618-4289-8b8c-a212248b8fdf",
   "metadata": {
    "tags": [],
    "vscode": {
     "languageId": "r"
    }
   },
   "outputs": [],
   "source": [
    "sample <- read_csv(\"../data/1553_dos_attack1.csv\")"
   ]
  },
  {
   "cell_type": "markdown",
   "id": "3a978f3c-ec8b-4a27-ab1d-8323101b9292",
   "metadata": {},
   "source": [
    "## Data Operations\n",
    "\n",
    "The first thing we will do is replace any occurrence of the string \"N/A\" with R's `NA`.  This will help us understand when data is not available for a given feature."
   ]
  },
  {
   "cell_type": "code",
   "execution_count": null,
   "id": "c1315aab-2ac0-499d-9938-95a989091829",
   "metadata": {
    "tags": [],
    "vscode": {
     "languageId": "r"
    }
   },
   "outputs": [],
   "source": [
    "sample[sample == 'N/A'] <- NA"
   ]
  },
  {
   "cell_type": "markdown",
   "id": "32030a7f-3be2-40ce-9b75-5475c9e3cae1",
   "metadata": {},
   "source": [
    "In the prior notebook, we learned that only certain features seem to influence our `malicious` label.  Therefore, for the sake of simplicity, we will only include those features.\n",
    "\n",
    "Note that we also remove a few features like `timestamp`, which do correlate to `malicious` but have zero predictive value."
   ]
  },
  {
   "cell_type": "code",
   "execution_count": null,
   "id": "9ea69b4f-31f1-40d9-bf7d-e058537f3667",
   "metadata": {
    "tags": [],
    "vscode": {
     "languageId": "r"
    }
   },
   "outputs": [],
   "source": [
    "sample_clean <- sample %>%\n",
    "            select(malicious, dw0, msgTime, rxSts, sa, gap, dsa, connType, ssa, txSts, da, wc, modeCode)"
   ]
  },
  {
   "cell_type": "markdown",
   "id": "2f5b069b-052b-4de0-9597-55fa9c6a08bd",
   "metadata": {},
   "source": [
    "The datatypes that `read_csv()` gave us are a little strange, though we can use `type.convert()` to let R guess what the best data types are.  This will work much better now that we've replaced \"N/A\" strings with `NA` and R doesn't have to take those values into consideration when inferring types."
   ]
  },
  {
   "cell_type": "code",
   "execution_count": null,
   "id": "1cf8c592-9859-4fc2-919c-af04837ad531",
   "metadata": {
    "tags": [],
    "vscode": {
     "languageId": "r"
    }
   },
   "outputs": [],
   "source": [
    "sample_clean <- type.convert(sample_clean, as.is = TRUE)"
   ]
  },
  {
   "cell_type": "markdown",
   "id": "b7dc9a5c-6e6a-4759-bc1f-fb2900368ffe",
   "metadata": {},
   "source": [
    "Let's take a quick look at our resulting dataframe to see if everything looks okay."
   ]
  },
  {
   "cell_type": "code",
   "execution_count": null,
   "id": "12862168-03a7-47c8-a71a-492bed8a9004",
   "metadata": {
    "tags": [],
    "vscode": {
     "languageId": "r"
    }
   },
   "outputs": [],
   "source": [
    "head(sample_clean)"
   ]
  },
  {
   "cell_type": "markdown",
   "id": "26e07866-f48a-4220-8956-da5e2bcd911f",
   "metadata": {},
   "source": [
    "## Write Out Results\n",
    "\n",
    "Now that we're satisfied with the results, we can write them out and pick it back up in the next notebook."
   ]
  },
  {
   "cell_type": "code",
   "execution_count": null,
   "id": "6c050b7e-e37c-4906-b974-70117426ea37",
   "metadata": {
    "tags": [],
    "vscode": {
     "languageId": "r"
    }
   },
   "outputs": [],
   "source": [
    "write_csv(sample_clean, \"../1553_dos_attack1_R_clean.csv\")"
   ]
  }
 ],
 "metadata": {
  "kernelspec": {
   "display_name": "R",
   "language": "R",
   "name": "ir"
  },
  "language_info": {
   "codemirror_mode": "r",
   "file_extension": ".r",
   "mimetype": "text/x-r-source",
   "name": "R",
   "pygments_lexer": "r",
   "version": "4.2.3"
  }
 },
 "nbformat": 4,
 "nbformat_minor": 5
}

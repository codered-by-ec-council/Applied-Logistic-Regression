{
 "cells": [
  {
   "cell_type": "markdown",
   "id": "988bdf47-8602-4236-94d0-cbe75aa6d1b5",
   "metadata": {},
   "source": [
    "# Model an Ordinal Logistic Regression in R\n",
    "\n",
    "This notebook will perform ordinal logistic regression on our sample data.  We will use a new dataset for this analysis, one which is more amenable to our analysis, as it includes ranked ordering.\n",
    "\n",
    "In addition to the `tidyverse` and `caret` packages, we'll use the `foreign` package to load a Stata dataset and `MASS` to perform the ordinal logistic regression."
   ]
  },
  {
   "cell_type": "code",
   "execution_count": null,
   "id": "238bb779-8a90-430d-b8d3-fa73dd476ece",
   "metadata": {
    "tags": []
   },
   "outputs": [],
   "source": [
    "library(tidyverse)\n",
    "library(caret)\n",
    "library(foreign)\n",
    "library(MASS)"
   ]
  },
  {
   "cell_type": "markdown",
   "id": "58b690d7-421a-411a-be99-b57f7b8fdcde",
   "metadata": {},
   "source": [
    "This dataset is in Stata format.  Stata is a paid product for data analysis, but we don't have it available to us here."
   ]
  },
  {
   "cell_type": "code",
   "execution_count": null,
   "id": "af8a7aff-5088-46e5-b21c-ea3419d29bb6",
   "metadata": {
    "tags": []
   },
   "outputs": [],
   "source": [
    "students <- read.dta(\"../data/ologit.dta\")\n",
    "head(students)"
   ]
  },
  {
   "cell_type": "markdown",
   "id": "39cf08df-b8f1-467f-9579-874b82d33aa8",
   "metadata": {},
   "source": [
    "We can use the `table()` function to get a breakdown of each column individually.  `lapply()` lets us do it for each column in a sequence."
   ]
  },
  {
   "cell_type": "code",
   "execution_count": null,
   "id": "62b6624a-72e2-459d-b835-2c045da54e68",
   "metadata": {
    "tags": []
   },
   "outputs": [],
   "source": [
    "lapply(students[, c(\"apply\", \"pared\", \"public\")], table)"
   ]
  },
  {
   "cell_type": "markdown",
   "id": "cb58c460-87a9-4d24-983f-2ee7cb2f71f8",
   "metadata": {},
   "source": [
    "We can also view this data as a matrix, which makes sense for two relevant features.  We can see that there are relatively few students who had parents with graduate (or higher) degrees, so we can expect some risk from imbalance."
   ]
  },
  {
   "cell_type": "code",
   "execution_count": null,
   "id": "dc6367e6-485d-4b7b-8631-6beb36513168",
   "metadata": {
    "tags": []
   },
   "outputs": [],
   "source": [
    "ftable(xtabs(~ public + apply + pared, data=students))"
   ]
  },
  {
   "cell_type": "markdown",
   "id": "5fc7dfb4-933b-4793-ba79-30fb872cc992",
   "metadata": {},
   "source": [
    "We also have a continuous variable, GPA.  We can see that students range between 1.9 and 4.0 GPA."
   ]
  },
  {
   "cell_type": "code",
   "execution_count": null,
   "id": "b1761216-9635-422b-a5e8-3a8a92c92c44",
   "metadata": {
    "tags": []
   },
   "outputs": [],
   "source": [
    "summary(students$gpa)"
   ]
  },
  {
   "cell_type": "markdown",
   "id": "88c600a8-9765-4ef5-b504-251cb68f2de4",
   "metadata": {},
   "source": [
    "## Training a Model\n",
    "\n",
    "We can use the `polr()` function to perform an ordinal logistic regression on our dataset.\n",
    "\n",
    "`Hess` here indicates that we're going to return the Hessian (observed information matrix), which we'll need to do in order to call `summary()` on the model."
   ]
  },
  {
   "cell_type": "code",
   "execution_count": null,
   "id": "435ef80f-8468-4992-8b23-2b9fa1f5b95b",
   "metadata": {
    "tags": []
   },
   "outputs": [],
   "source": [
    "model <- polr(apply ~ pared + public + gpa, data=students, Hess=TRUE)"
   ]
  },
  {
   "cell_type": "markdown",
   "id": "320df25e-a8a9-46b2-a0e2-c76d295aba3a",
   "metadata": {},
   "source": [
    "Because we did generate the Hessian, we can generate a summary."
   ]
  },
  {
   "cell_type": "code",
   "execution_count": null,
   "id": "3e0b56ca-efee-4e6d-b78c-6e8c51297c5d",
   "metadata": {
    "tags": []
   },
   "outputs": [],
   "source": [
    "summary(model)"
   ]
  },
  {
   "cell_type": "markdown",
   "id": "c21a5581-daf5-4edd-a153-308e9ddf16e2",
   "metadata": {},
   "source": [
    "We can also build an odds ratio.\n",
    "\n",
    "How we can interpret these results (all other things being equal):\n",
    "\n",
    "1. If at least one parent attended graduate school, a student is 2.85 times more likely to apply for graduate school.\n",
    "2. Students who attended a public university for their undergraduate studies are 0.94 times as likely as students who attended a private school.\n",
    "3. For every grade point increase (e.g., 2.0 to 3.0 or 2.9 to 3.9), a student becomes 1.85 times more likely to apply to graduate school."
   ]
  },
  {
   "cell_type": "code",
   "execution_count": null,
   "id": "edd76b8d-c687-4e93-bd9b-23ca120d37c1",
   "metadata": {
    "tags": []
   },
   "outputs": [],
   "source": [
    "exp(coef(model))"
   ]
  },
  {
   "cell_type": "markdown",
   "id": "bc8a2680-34b9-46d4-b418-6e6e26a0945d",
   "metadata": {},
   "source": [
    "## Evaluating a Model\n",
    "\n",
    "Now let's split into training and test datasets and see how the model fares."
   ]
  },
  {
   "cell_type": "code",
   "execution_count": null,
   "id": "177c967e-677c-4352-9fba-0df4cf66b95b",
   "metadata": {
    "tags": []
   },
   "outputs": [],
   "source": [
    "set.seed(106842)\n",
    "rand_students <- students[sample(nrow(students)), ]\n",
    "trainIndex <- caret::createDataPartition(rand_students$apply, p=0.7, list=FALSE, times=1)\n",
    "train_data <- rand_students[trainIndex,]\n",
    "test_data <- rand_students[-trainIndex,]"
   ]
  },
  {
   "cell_type": "code",
   "execution_count": null,
   "id": "3f2fe154-345b-4cb0-a70c-15495df60758",
   "metadata": {
    "tags": []
   },
   "outputs": [],
   "source": [
    "model <- polr(apply ~ pared + public + gpa, data=train_data, Hess=TRUE)"
   ]
  },
  {
   "cell_type": "code",
   "execution_count": null,
   "id": "5228ef15-0800-42f9-9826-8989fb35b9f3",
   "metadata": {
    "tags": []
   },
   "outputs": [],
   "source": [
    "model_pred <- predict(model, test_data)"
   ]
  },
  {
   "cell_type": "code",
   "execution_count": null,
   "id": "d0f7143e-ce55-49a4-a054-ec9792f35d65",
   "metadata": {
    "tags": []
   },
   "outputs": [],
   "source": [
    "outcomes <- cbind(as.data.frame(model_pred), test_data)\n",
    "head(outcomes, 15)"
   ]
  },
  {
   "cell_type": "code",
   "execution_count": null,
   "id": "75372490-a318-4322-938c-2d2ae17deb04",
   "metadata": {
    "tags": []
   },
   "outputs": [],
   "source": [
    "caret::confusionMatrix(as.factor(outcomes$model_pred), as.factor(outcomes$apply))"
   ]
  },
  {
   "cell_type": "code",
   "execution_count": null,
   "id": "1549340e-8310-4ae7-bc41-6c9d6b217b05",
   "metadata": {},
   "outputs": [],
   "source": []
  }
 ],
 "metadata": {
  "kernelspec": {
   "display_name": "R",
   "language": "R",
   "name": "ir"
  },
  "language_info": {
   "codemirror_mode": "r",
   "file_extension": ".r",
   "mimetype": "text/x-r-source",
   "name": "R",
   "pygments_lexer": "r",
   "version": "4.2.3"
  }
 },
 "nbformat": 4,
 "nbformat_minor": 5
}

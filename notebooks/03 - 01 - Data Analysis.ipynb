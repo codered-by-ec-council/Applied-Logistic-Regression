{
 "cells": [
  {
   "cell_type": "markdown",
   "id": "9b67b7b6-d59a-4b6a-b26a-9cede8a81502",
   "metadata": {},
   "source": [
    "# Analyze Sample Attack Data\n",
    "\n",
    "This notebook will analyze a sample attack data file and help us understand the shape of this sample data.\n",
    "\n",
    "We will load the `tidyverse` package, which allows us to perform data operations with ease.  The `rpart` package introduces Recursive Partitioning and Regression Trees, which we will use in calculating a rough measure of correlation."
   ]
  },
  {
   "cell_type": "code",
   "execution_count": null,
   "id": "084b0041-39e7-4aac-872f-5d594fa2483d",
   "metadata": {
    "tags": [],
    "vscode": {
     "languageId": "r"
    }
   },
   "outputs": [],
   "source": [
    "library(tidyverse)\n",
    "library(rpart)"
   ]
  },
  {
   "cell_type": "markdown",
   "id": "9f79209b-944c-40b9-bf1e-8ead5bb9e222",
   "metadata": {},
   "source": [
    "## Basic Analysis\n",
    "\n",
    "The dataset we will read is 1553_dos_attack1.csv."
   ]
  },
  {
   "cell_type": "code",
   "execution_count": null,
   "id": "5713a2d8-7258-41a3-a636-c98b133d4db1",
   "metadata": {
    "tags": [],
    "vscode": {
     "languageId": "r"
    }
   },
   "outputs": [],
   "source": [
    "sample <- read_csv(\"../data/1553_dos_attack1.csv\")"
   ]
  },
  {
   "cell_type": "markdown",
   "id": "89bd7dc2-8450-447e-85d1-224030e18817",
   "metadata": {},
   "source": [
    "`nrow()` tells us how many rows there are in a dataframe."
   ]
  },
  {
   "cell_type": "code",
   "execution_count": null,
   "id": "52ec0c4d-538a-417c-8211-cf5de7f0bf02",
   "metadata": {
    "tags": [],
    "vscode": {
     "languageId": "r"
    }
   },
   "outputs": [],
   "source": [
    "nrow(sample)"
   ]
  },
  {
   "cell_type": "markdown",
   "id": "3d9fdae8-dac0-4e0d-8120-2a8fcf7472a1",
   "metadata": {},
   "source": [
    "Review the top few rows in the dataframe."
   ]
  },
  {
   "cell_type": "code",
   "execution_count": null,
   "id": "4e694856-d54c-40d1-b97e-b8e70c8325f7",
   "metadata": {
    "tags": [],
    "vscode": {
     "languageId": "r"
    }
   },
   "outputs": [],
   "source": [
    "head(sample)"
   ]
  },
  {
   "cell_type": "markdown",
   "id": "16e1716b-1a3e-4316-903d-2cef226b9e6c",
   "metadata": {},
   "source": [
    "What is the set of unique values for one of these columns?  I'll choose `dw31` as an example."
   ]
  },
  {
   "cell_type": "code",
   "execution_count": null,
   "id": "3d9d13f9-9ccc-4271-8e2f-0eb1dfcff2c2",
   "metadata": {
    "tags": [],
    "vscode": {
     "languageId": "r"
    }
   },
   "outputs": [],
   "source": [
    "unique(sample$dw31)"
   ]
  },
  {
   "cell_type": "markdown",
   "id": "a43b492a-602e-4dd2-90a9-4b89f5f6a610",
   "metadata": {},
   "source": [
    "The `rapply()` function allows us to execute a function for each **column** in a dataframe.  Here, I want to see the cardinality of each feature."
   ]
  },
  {
   "cell_type": "code",
   "execution_count": null,
   "id": "709d67f5-852a-4ea8-98c0-26e3b796595d",
   "metadata": {
    "tags": [],
    "vscode": {
     "languageId": "r"
    }
   },
   "outputs": [],
   "source": [
    "rapply(sample, function(x) { length(unique(x)) })"
   ]
  },
  {
   "cell_type": "markdown",
   "id": "f18ef4ed-fb8b-4ed2-9563-a7c37c12caa8",
   "metadata": {},
   "source": [
    "Let's drill into the possible values and how many times each shows up.  We'll do that for `connType` (as an example) and `malicious` (our label)."
   ]
  },
  {
   "cell_type": "code",
   "execution_count": null,
   "id": "9b5c02ab-7fea-4138-8179-1e27bb0cf238",
   "metadata": {
    "tags": [],
    "vscode": {
     "languageId": "r"
    }
   },
   "outputs": [],
   "source": [
    "data.table::setDT(sample)[, .N, keyby=connType]"
   ]
  },
  {
   "cell_type": "code",
   "execution_count": null,
   "id": "7a9ea752-a151-4981-8574-725e627f919b",
   "metadata": {
    "tags": [],
    "vscode": {
     "languageId": "r"
    }
   },
   "outputs": [],
   "source": [
    "data.table::setDT(sample)[, .N, keyby=malicious]"
   ]
  },
  {
   "cell_type": "markdown",
   "id": "4e15c303-6728-4809-ba14-06a8a0218dfc",
   "metadata": {},
   "source": [
    "Let's take a look at some of the rows which are marked as malicious."
   ]
  },
  {
   "cell_type": "code",
   "execution_count": null,
   "id": "67ce1555-f0f3-4a4b-bc03-8c842276c56f",
   "metadata": {
    "tags": [],
    "vscode": {
     "languageId": "r"
    }
   },
   "outputs": [],
   "source": [
    "sample %>%\n",
    "    filter(malicious == TRUE) %>%\n",
    "    head(10)"
   ]
  },
  {
   "cell_type": "markdown",
   "id": "f689a3ce-9250-4c20-8c22-3f5e439d717d",
   "metadata": {},
   "source": [
    "## \"Correlation\" Analysis\n",
    "\n",
    "Many columns have the string \"N/A\" instead of an R-friendly `NA`.  This code will fix that.  We'll do this again when we perform the actual data cleanup, but for now, it makes the next operations more effective."
   ]
  },
  {
   "cell_type": "code",
   "execution_count": null,
   "id": "f2d2e1f5-f608-4670-a174-290906b6e078",
   "metadata": {
    "tags": [],
    "vscode": {
     "languageId": "r"
    }
   },
   "outputs": [],
   "source": [
    "sample[sample == 'N/A'] <- NA"
   ]
  },
  {
   "cell_type": "markdown",
   "id": "ded51417-93e1-47de-ac9e-6924ee10f1d7",
   "metadata": {},
   "source": [
    "This block of code provides us a rough idea of how various features 'correlate' to our label.  I put 'correlation' in quotations because technically, correlation requires numeric features and most of these are strings."
   ]
  },
  {
   "cell_type": "code",
   "execution_count": null,
   "id": "8d3aa07c-1da0-4eed-ab8a-10a7a1584e7d",
   "metadata": {
    "tags": [],
    "vscode": {
     "languageId": "r"
    }
   },
   "outputs": [],
   "source": [
    "# https://rviews.rstudio.com/2021/04/15/an-alternative-to-the-correlation-coefficient-that-works-for-numeric-and-categorical-variables/\n",
    "calc_mae_reduction <- function(y_hat, y_actual) {\n",
    "  model_error <- mean(abs(y_hat - y_actual))\n",
    "  baseline <- mean(y_actual, na.rm = TRUE)\n",
    "  baseline_error <-  mean(abs(baseline - y_actual))\n",
    "  result <- 1 - model_error/baseline_error\n",
    "  # cat(\"MAE - baseline:\", baseline_error, \"\\n\")\n",
    "  # cat(\"MAE - model:\", model_error, \"\\n\")\n",
    "  # cat(\"MAE - before cleaning up:\", result, \"\\n\")\n",
    "  result <- max(0.0, min(result, 1.0))\n",
    "  round(100*result, 2)\n",
    "}\n",
    "\n",
    "calc_misclass_reduction <- function(y_hat, y_actual) {\n",
    "  tab <- table(y_hat, y_actual)\n",
    "  model_error <- 1 - sum(diag(tab))/sum(tab)\n",
    "  majority_class <- names(which.max(table(y_actual)))\n",
    "  baseline.preds <- rep(majority_class, length(y_actual))\n",
    "  baseline_error <- mean(baseline.preds != y_actual)\n",
    "  result <- 1 - model_error/baseline_error\n",
    "  # cat(\"MISCLASS - baseline:\", baseline_error, \"\\n\")\n",
    "  # cat(\"MISCLASS - model:\", model_error, \"\\n\")\n",
    "  # cat(\"MISCLASS - before cleaning up:\", result, \"\\n\")\n",
    "  result <- max(0.0, min(result, 1.0))\n",
    "  round(100*result, 2)\n",
    "}\n",
    "\n",
    "x2y_inner <- function(x, y) {\n",
    "  \n",
    "  if (length(unique(x)) == 1 |\n",
    "      length(unique(y)) == 1 ) {\n",
    "    return(NA)\n",
    "  } \n",
    "  # if y is continuous\n",
    "  if (is.numeric(y)) {\n",
    "    preds <- predict(rpart(y ~ x, method = \"anova\"), type = 'vector')\n",
    "    calc_mae_reduction(preds, y)\n",
    "  }\n",
    "  # if y is categorical\n",
    "  else {\n",
    "    preds <- predict(rpart(y ~ x, method = \"class\"), type = 'class')\n",
    "    calc_misclass_reduction(preds, y)\n",
    "  }\n",
    "}\n",
    "\n",
    "\n",
    "simple_boot <- function(x,y) {\n",
    "  ids <- sample(length(x), replace = TRUE)\n",
    "  x2y_inner(x[ids], y[ids])\n",
    "}\n",
    "\n",
    "x2y <- function(x, y, confidence = FALSE) {\n",
    "  results <- list()\n",
    "  \n",
    "  missing <-  is.na(x) | is.na(y)\n",
    "  results$perc_of_obs <- round(100 * (1 - sum(missing) / length(x)), 2)\n",
    "  \n",
    "  x <- x[!missing]\n",
    "  y <- y[!missing]\n",
    "  \n",
    "  results$x2y <- x2y_inner(x, y)\n",
    "  \n",
    "  if (confidence) {\n",
    "    results$CI_95_Lower = NA\n",
    "    results$CI_95_Upper = NA\n",
    "    if (!is.na(results$x2y) & results$x2y > 0) {\n",
    "      n <- length(x)\n",
    "      draws <- replicate(1000, simple_boot(x, y))\n",
    "      errors <- draws - results$x2y\n",
    "      results$CI_95_Lower <- results$x2y - round(quantile(errors,\n",
    "                                                          probs = 0.975,\n",
    "                                                          na.rm = TRUE), 2)\n",
    "      results$CI_95_Upper <- results$x2y - round(quantile(errors,\n",
    "                                                          probs = 0.025,\n",
    "                                                          na.rm = TRUE), 2)\n",
    "    }\n",
    "  }\n",
    "  results\n",
    "}\n",
    "\n",
    "dx2y <- function(d,\n",
    "                 target = NA,\n",
    "                 confidence = FALSE) {\n",
    "  if (is.na(target)) {\n",
    "    pairs <- combn(ncol(d), 2)\n",
    "    pairs <- cbind(pairs, pairs[2:1, ])\n",
    "  }\n",
    "  else {\n",
    "    n <- 1:ncol(d)\n",
    "    idx <- which(target == names(d))\n",
    "    n <- n[n != idx]\n",
    "    pairs <- cbind(rbind(n, idx), rbind(idx, n))\n",
    "  }\n",
    "  \n",
    "  n <- dim(pairs)[2]\n",
    "  \n",
    "  results <- data.frame(x = names(d)[pairs[1,]],\n",
    "                        y = names(d)[pairs[2,]],\n",
    "                        perc_of_obs = rep(0.00, n),\n",
    "                        x2y = rep(0.00, n),\n",
    "                        CI_95_Lower = rep(NA, n),\n",
    "                        CI_95_Upper = rep(NA, n))\n",
    "  \n",
    "  for (i in 1:n) {\n",
    "    x <- d %>% pull(pairs[1, i])\n",
    "    y <- d %>% pull(pairs[2, i])\n",
    "    if (confidence) {\n",
    "      results[i, 3:6] <- x2y(x, y, confidence = TRUE)\n",
    "    }\n",
    "    else {\n",
    "      results[i, 3:4] <- x2y(x, y)\n",
    "    }\n",
    "  }\n",
    "  \n",
    "  if (!confidence) {\n",
    "    results$CI_95_Lower <- NULL\n",
    "    results$CI_95_Upper <- NULL\n",
    "  }\n",
    "  \n",
    "  results <- results %>% arrange(desc(x2y), desc(perc_of_obs))\n",
    "  \n",
    "  results\n",
    "}"
   ]
  },
  {
   "cell_type": "code",
   "execution_count": null,
   "id": "ae2bc2af-d6f1-4ef3-9e82-e051aa60cfcc",
   "metadata": {
    "tags": [],
    "vscode": {
     "languageId": "r"
    }
   },
   "outputs": [],
   "source": [
    "dx2y(sample, target = \"malicious\", confidence = FALSE) %>%\n",
    "    filter(y == 'malicious') %>%\n",
    "    filter(x2y > 0)"
   ]
  },
  {
   "cell_type": "markdown",
   "id": "5d9a12f7-ee6a-4ada-af07-6ee4a80b7193",
   "metadata": {},
   "source": [
    "## Quick Analysis\n",
    "\n",
    "We can see the set of columns which appear to drive our label.  Let's look at a few of these in turn and see if we can learn something from them."
   ]
  },
  {
   "cell_type": "code",
   "execution_count": null,
   "id": "d4476b19-d1cf-47df-96dd-8da3fc380d69",
   "metadata": {
    "tags": [],
    "vscode": {
     "languageId": "r"
    }
   },
   "outputs": [],
   "source": [
    "data.table::setDT(sample)[, .N, keyby=c(\"malicious\", \"sa\")]"
   ]
  },
  {
   "cell_type": "code",
   "execution_count": null,
   "id": "23ba84ee-0948-41db-b36a-9c02ed63fa8a",
   "metadata": {
    "tags": [],
    "vscode": {
     "languageId": "r"
    }
   },
   "outputs": [],
   "source": [
    "data.table::setDT(sample)[, .N, keyby=c(\"malicious\", \"dw0\")]"
   ]
  },
  {
   "cell_type": "code",
   "execution_count": null,
   "id": "d0e385ed-0db1-431e-9e27-7bc73ea0cb5a",
   "metadata": {
    "tags": [],
    "vscode": {
     "languageId": "r"
    }
   },
   "outputs": [],
   "source": [
    "data.table::setDT(sample)[, .N, keyby=c(\"malicious\", \"msgTime\")]"
   ]
  },
  {
   "cell_type": "code",
   "execution_count": null,
   "id": "244c270b-8e09-4c50-a86f-479217b58742",
   "metadata": {
    "tags": [],
    "vscode": {
     "languageId": "r"
    }
   },
   "outputs": [],
   "source": [
    "data.table::setDT(sample)[, .N, keyby=c(\"malicious\", \"gap\")]"
   ]
  }
 ],
 "metadata": {
  "kernelspec": {
   "display_name": "R",
   "language": "R",
   "name": "ir"
  },
  "language_info": {
   "codemirror_mode": "r",
   "file_extension": ".r",
   "mimetype": "text/x-r-source",
   "name": "R",
   "pygments_lexer": "r",
   "version": "4.2.3"
  }
 },
 "nbformat": 4,
 "nbformat_minor": 5
}
